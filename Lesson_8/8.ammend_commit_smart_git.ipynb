{
 "cells": [
  {
   "cell_type": "markdown",
   "metadata": {},
   "source": [
    "# 8. ammend commit, alias, git GUI"
   ]
  },
  {
   "cell_type": "markdown",
   "metadata": {},
   "source": [
    "## 1. ammend commit\n",
    "\n",
    "### &nbsp;&nbsp;&nbsp;&nbsp;`git commit -a`  \n",
    "### &nbsp;&nbsp;&nbsp;&nbsp;`git commit --am`  \n",
    "### &nbsp;&nbsp;&nbsp;&nbsp;`git commit --am \"commit message\"`  \n",
    "### &nbsp;&nbsp;&nbsp;&nbsp;`git commit --amend`  \n",
    "### &nbsp;&nbsp;&nbsp;&nbsp;`git commit --amend --no-edit`  "
   ]
  },
  {
   "cell_type": "markdown",
   "metadata": {},
   "source": [
    "## 2. alias\n",
    "### &nbsp;&nbsp;&nbsp;&nbsp;`git config --global alias.co checkout`\n",
    "### &nbsp;&nbsp;&nbsp;&nbsp;`git config --global alias.ci commit`\n",
    "### &nbsp;&nbsp;&nbsp;&nbsp;`git config --global alias.st status`\n",
    "### &nbsp;&nbsp;&nbsp;&nbsp;`git config --global alias.br branch`\n",
    "### &nbsp;&nbsp;&nbsp;&nbsp;`git config --local alias.sc '!git checkout master && git status'`\n",
    "### &nbsp;&nbsp;&nbsp;&nbsp;`git config --global --unset alias.trololo`"
   ]
  },
  {
   "cell_type": "markdown",
   "metadata": {},
   "source": [
    "## 3. git GUI (graphical user interface)\n",
    "\n",
    "\n",
    "### SmartGit, sourcetree, Jetbrains git gui\n",
    "### compare files\n",
    "### rollback\n",
    "### commit\n",
    "### ..."
   ]
  }
 ],
 "metadata": {
  "kernelspec": {
   "display_name": "Python 3",
   "language": "python",
   "name": "python3"
  },
  "language_info": {
   "codemirror_mode": {
    "name": "ipython",
    "version": 3
   },
   "file_extension": ".py",
   "mimetype": "text/x-python",
   "name": "python",
   "nbconvert_exporter": "python",
   "pygments_lexer": "ipython3",
   "version": "3.6.9"
  }
 },
 "nbformat": 4,
 "nbformat_minor": 4
}
