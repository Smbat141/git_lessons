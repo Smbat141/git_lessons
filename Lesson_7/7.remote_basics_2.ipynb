{
 "cells": [
  {
   "cell_type": "markdown",
   "metadata": {},
   "source": [
    "# 7. Remote Basics 2"
   ]
  },
  {
   "cell_type": "markdown",
   "metadata": {},
   "source": [
    "## 1. GitHub PR (Pull Request)"
   ]
  },
  {
   "cell_type": "markdown",
   "metadata": {},
   "source": [
    "## 2. Many Remotes\n",
    "\n",
    "\n",
    "### &nbsp;&nbsp;&nbsp;&nbsp;`git remote add <name> <url>`\n",
    "### &nbsp;&nbsp;&nbsp;&nbsp;`git remote rm <name>`\n",
    "### &nbsp;&nbsp;&nbsp;&nbsp;`git remote rename <old-name> <new-name>`\n",
    "### &nbsp;&nbsp;&nbsp;&nbsp;`git remote`\n",
    "### &nbsp;&nbsp;&nbsp;&nbsp;`git remote -v`\n",
    "### &nbsp;&nbsp;&nbsp;&nbsp;`git remote set-url <name> <url>`"
   ]
  },
  {
   "cell_type": "markdown",
   "metadata": {},
   "source": [
    "## 3. SSH Auth\n",
    "\n",
    "### &nbsp;&nbsp;&nbsp;&nbsp; `ls -al ~/.ssh`\n",
    "### &nbsp;&nbsp;&nbsp;&nbsp; `ssh-keygen -t rsa -b 4096 -C \"your_email@example.com\"`\n",
    "### &nbsp;&nbsp;&nbsp;&nbsp; `eval \"$(ssh-agent -s)\"`\n",
    "### &nbsp;&nbsp;&nbsp;&nbsp; `ssh -T git@github.com`"
   ]
  }
 ],
 "metadata": {
  "kernelspec": {
   "display_name": "Python 3",
   "language": "python",
   "name": "python3"
  },
  "language_info": {
   "codemirror_mode": {
    "name": "ipython",
    "version": 3
   },
   "file_extension": ".py",
   "mimetype": "text/x-python",
   "name": "python",
   "nbconvert_exporter": "python",
   "pygments_lexer": "ipython3",
   "version": "3.6.9"
  }
 },
 "nbformat": 4,
 "nbformat_minor": 4
}
