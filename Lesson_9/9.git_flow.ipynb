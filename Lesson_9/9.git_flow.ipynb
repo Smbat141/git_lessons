{
 "cells": [
  {
   "cell_type": "markdown",
   "metadata": {},
   "source": [
    "# 9. Git flow"
   ]
  },
  {
   "cell_type": "markdown",
   "metadata": {},
   "source": [
    "## 1. Init\n",
    "\n",
    "### &nbsp;&nbsp;&nbsp;&nbsp;`git flow init`  \n",
    " "
   ]
  },
  {
   "cell_type": "markdown",
   "metadata": {},
   "source": [
    "![title](git_flow_1.svg)"
   ]
  },
  {
   "cell_type": "markdown",
   "metadata": {},
   "source": [
    "## 2. Feature\n",
    "### &nbsp;&nbsp;&nbsp;&nbsp;`git flow feature start call_with_facebook`  \n",
    "### &nbsp;&nbsp;&nbsp;&nbsp;`git flow feature finish MYFEATURE`  \n",
    "\n",
    "\n",
    "\n",
    "\n",
    "\n",
    "\n"
   ]
  },
  {
   "cell_type": "markdown",
   "metadata": {},
   "source": [
    "![title](git_flow_2.svg)"
   ]
  },
  {
   "cell_type": "markdown",
   "metadata": {},
   "source": [
    "## 3. Release\n",
    "### git flow release start 0.1.0\n",
    "### git flow release finish '0.1.0'\n",
    "\n",
    "\n",
    "\n",
    "\n",
    "\n",
    "\n",
    "\n",
    "\n",
    "\n",
    "\n",
    "\n"
   ]
  },
  {
   "cell_type": "markdown",
   "metadata": {},
   "source": [
    "![title](git_flow_3.svg)"
   ]
  },
  {
   "cell_type": "markdown",
   "metadata": {},
   "source": [
    "## 4. HotFix\n",
    "### &nbsp;&nbsp;&nbsp;&nbsp;`git flow hotfix start hotfix_branch`  \n",
    "### &nbsp;&nbsp;&nbsp;&nbsp;`git checkout master git merge hotfix_branch git checkout develop git merge`  \n",
    "### &nbsp;&nbsp;&nbsp;&nbsp;`hotfix_branch git branch -D hotfix_branch`  \n",
    "### &nbsp;&nbsp;&nbsp;&nbsp;`git flow hotfix finish hotfix_branch`  \n",
    "\n",
    "\n",
    "\n",
    "\n",
    "\n",
    "\n",
    "\n",
    "\n",
    "\n"
   ]
  },
  {
   "cell_type": "markdown",
   "metadata": {},
   "source": [
    "![title](git_flow_4.svg)"
   ]
  }
 ],
 "metadata": {
  "kernelspec": {
   "display_name": "Python 3",
   "language": "python",
   "name": "python3"
  },
  "language_info": {
   "codemirror_mode": {
    "name": "ipython",
    "version": 3
   },
   "file_extension": ".py",
   "mimetype": "text/x-python",
   "name": "python",
   "nbconvert_exporter": "python",
   "pygments_lexer": "ipython3",
   "version": "3.6.9"
  }
 },
 "nbformat": 4,
 "nbformat_minor": 4
}
