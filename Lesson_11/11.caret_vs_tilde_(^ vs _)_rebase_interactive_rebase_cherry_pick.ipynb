{
 "cells": [
  {
   "cell_type": "markdown",
   "metadata": {},
   "source": [
    "# 11. Caret vs Tilde (^ vs ~), Rebase, Interactive Rebase, Cherry Pick "
   ]
  },
  {
   "cell_type": "markdown",
   "metadata": {},
   "source": [
    "## 1. Caret vs Tilde (^ vs ~) aliq"
   ]
  },
  {
   "cell_type": "markdown",
   "metadata": {},
   "source": [
    "![title](history_log_1.svg)"
   ]
  },
  {
   "cell_type": "markdown",
   "metadata": {},
   "source": [
    "![title](history_log_2.png)"
   ]
  },
  {
   "cell_type": "markdown",
   "metadata": {},
   "source": [
    "![title](history_log_3.png)"
   ]
  },
  {
   "cell_type": "markdown",
   "metadata": {},
   "source": [
    "## 2. Rebase\n",
    "### 1. &nbsp;&nbsp;`git rebase master`\n",
    "* --continue\n",
    "* --abort"
   ]
  },
  {
   "cell_type": "markdown",
   "metadata": {},
   "source": [
    "![title](rebase_1.svg)"
   ]
  },
  {
   "cell_type": "markdown",
   "metadata": {},
   "source": [
    "![title](rebase_2.svg)"
   ]
  },
  {
   "cell_type": "markdown",
   "metadata": {},
   "source": [
    "![title](rebase_3.svg)"
   ]
  },
  {
   "cell_type": "markdown",
   "metadata": {},
   "source": [
    "![title](rebase_4.svg)"
   ]
  },
  {
   "cell_type": "markdown",
   "metadata": {},
   "source": [
    "### &nbsp;&nbsp; `git rebase -i HEAD~3`"
   ]
  },
  {
   "cell_type": "markdown",
   "metadata": {},
   "source": [
    "![title](rebase_5.svg)"
   ]
  },
  {
   "cell_type": "markdown",
   "metadata": {},
   "source": [
    "![title](rebase_6.svg)"
   ]
  },
  {
   "cell_type": "markdown",
   "metadata": {},
   "source": [
    "## 3. Interactive Rebase \n",
    "### 1. git rebase  -i\n",
    "git rebase -- d\n",
    "git rebase -- p \n",
    "git rebase -- x\n",
    "\n",
    "### &nbsp;&nbsp;Commands:\n",
    "* &nbsp;&nbsp;p, pick <commit> = use commit\n",
    "* &nbsp;&nbsp;r, reword <commit> = use commit, but edit the commit message\n",
    "* &nbsp;&nbsp;e, edit <commit> = use commit, but stop for amending\n",
    "* &nbsp;&nbsp;s, squash <commit> = use commit, but meld into previous commit\n",
    "* &nbsp;&nbsp;f, fixup <commit> = like \"squash\", but discard this commit's log message\n",
    "* &nbsp;&nbsp;x, exec <command> = run command (the rest of the line) using shell\n",
    "* &nbsp;&nbsp;b, break = stop here (continue rebase later with 'git rebase --continue')\n",
    "* &nbsp;&nbsp;d, drop <commit> = remove commit\n",
    "* &nbsp;&nbsp;l, label <label> = label current HEAD with a name\n",
    "* &nbsp;&nbsp;t, reset <label> = reset HEAD to a label\n",
    "* &nbsp;&nbsp;m, merge [-C <commit> | -c <commit>] <label> [# <oneline>]\n",
    " .       &nbsp;&nbsp;create a merge commit using the original merge commit's\n",
    " .       &nbsp;&nbsp;message (or the oneline, if no original merge commit was\n",
    " .       &nbsp;&nbsp;specified). Use -c <commit> to reword the commit message.\n",
    "\n",
    "### 2. git rebase --onto master featureA featureB "
   ]
  },
  {
   "cell_type": "markdown",
   "metadata": {},
   "source": [
    "## 4. Git Cherry Pick\n",
    "### 1. `git cherry-pick commitSha`\n",
    "* -edit\n",
    "* --no-commit"
   ]
  },
  {
   "cell_type": "markdown",
   "metadata": {},
   "source": [
    "![title](cherry_pick_1.png)"
   ]
  },
  {
   "cell_type": "markdown",
   "metadata": {},
   "source": [
    "![title](cherry_pick_2.png)"
   ]
  }
 ],
 "metadata": {
  "kernelspec": {
   "display_name": "Python 3",
   "language": "python",
   "name": "python3"
  },
  "language_info": {
   "codemirror_mode": {
    "name": "ipython",
    "version": 3
   },
   "file_extension": ".py",
   "mimetype": "text/x-python",
   "name": "python",
   "nbconvert_exporter": "python",
   "pygments_lexer": "ipython3",
   "version": "3.6.9"
  }
 },
 "nbformat": 4,
 "nbformat_minor": 4
}
