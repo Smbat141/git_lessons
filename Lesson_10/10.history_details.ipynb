{
 "cells": [
  {
   "cell_type": "markdown",
   "metadata": {},
   "source": [
    "# 10. History Details"
   ]
  },
  {
   "cell_type": "markdown",
   "metadata": {},
   "source": [
    "## 1. Log Filter\n",
    "\n",
    "### &nbsp;&nbsp;&nbsp;&nbsp;`git log -2`  \n",
    "### &nbsp;&nbsp;&nbsp;&nbsp;`git log --author=\"John\"`\n",
    "### &nbsp;&nbsp;&nbsp;&nbsp;`git log --grep='lang fix'`\n",
    "### &nbsp;&nbsp;&nbsp;&nbsp;`git log master@{yesterday}`\n",
    "### &nbsp;&nbsp;&nbsp;&nbsp;`git log HEAD@{2.months.ago}`"
   ]
  },
  {
   "cell_type": "markdown",
   "metadata": {},
   "source": [
    "## 2. Git Log Pretty Show\n",
    "### &nbsp;&nbsp;&nbsp;&nbsp;`git log --pretty=oneline`  \n",
    "### &nbsp;&nbsp;&nbsp;&nbsp;`git log --pretty=format:'%H %h %an %ae'`  \n",
    "\n",
    "* %H - hash\n",
    "* %h - short hash\n",
    "* %an - author name\n",
    "* %ae - author email\n",
    "* %B - commit message\n",
    "* %n - new line\n",
    "* %cd - date\n",
    "* ...\n",
    "\n",
    "### &nbsp;&nbsp;&nbsp;&nbsp;`git log --graph --oneline`"
   ]
  },
  {
   "cell_type": "markdown",
   "metadata": {},
   "source": [
    "## 3. how git compare files?"
   ]
  },
  {
   "cell_type": "markdown",
   "metadata": {},
   "source": [
    "![title](deltas.png)"
   ]
  }
 ],
 "metadata": {
  "kernelspec": {
   "display_name": "Python 3",
   "language": "python",
   "name": "python3"
  },
  "language_info": {
   "codemirror_mode": {
    "name": "ipython",
    "version": 3
   },
   "file_extension": ".py",
   "mimetype": "text/x-python",
   "name": "python",
   "nbconvert_exporter": "python",
   "pygments_lexer": "ipython3",
   "version": "3.6.9"
  }
 },
 "nbformat": 4,
 "nbformat_minor": 4
}
